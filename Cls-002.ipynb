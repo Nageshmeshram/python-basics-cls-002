{
 "cells": [
  {
   "cell_type": "code",
   "execution_count": 1,
   "id": "d38f75c0",
   "metadata": {},
   "outputs": [],
   "source": [
    "s = \"ineuron\""
   ]
  },
  {
   "cell_type": "code",
   "execution_count": 2,
   "id": "268897a1",
   "metadata": {},
   "outputs": [
    {
     "data": {
      "text/plain": [
       "str"
      ]
     },
     "execution_count": 2,
     "metadata": {},
     "output_type": "execute_result"
    }
   ],
   "source": [
    "type(s)"
   ]
  },
  {
   "cell_type": "code",
   "execution_count": 3,
   "id": "619526b9",
   "metadata": {},
   "outputs": [
    {
     "data": {
      "text/plain": [
       "'i'"
      ]
     },
     "execution_count": 3,
     "metadata": {},
     "output_type": "execute_result"
    }
   ],
   "source": [
    "s[0]"
   ]
  },
  {
   "cell_type": "code",
   "execution_count": 4,
   "id": "99a47073",
   "metadata": {},
   "outputs": [
    {
     "data": {
      "text/plain": [
       "'o'"
      ]
     },
     "execution_count": 4,
     "metadata": {},
     "output_type": "execute_result"
    }
   ],
   "source": [
    "s[5]"
   ]
  },
  {
   "cell_type": "code",
   "execution_count": 5,
   "id": "f20a2005",
   "metadata": {},
   "outputs": [
    {
     "data": {
      "text/plain": [
       "'n'"
      ]
     },
     "execution_count": 5,
     "metadata": {},
     "output_type": "execute_result"
    }
   ],
   "source": [
    "s[-1]"
   ]
  },
  {
   "cell_type": "code",
   "execution_count": 6,
   "id": "4a6c353d",
   "metadata": {},
   "outputs": [],
   "source": [
    "s1 = 'nagesh'"
   ]
  },
  {
   "cell_type": "code",
   "execution_count": 7,
   "id": "c9acb84b",
   "metadata": {},
   "outputs": [
    {
     "data": {
      "text/plain": [
       "'nagesh'"
      ]
     },
     "execution_count": 7,
     "metadata": {},
     "output_type": "execute_result"
    }
   ],
   "source": [
    "s1"
   ]
  },
  {
   "cell_type": "code",
   "execution_count": 8,
   "id": "23e018c6",
   "metadata": {},
   "outputs": [
    {
     "data": {
      "text/plain": [
       "'a'"
      ]
     },
     "execution_count": 8,
     "metadata": {},
     "output_type": "execute_result"
    }
   ],
   "source": [
    "s1[1]"
   ]
  },
  {
   "cell_type": "code",
   "execution_count": 9,
   "id": "98e5e55c",
   "metadata": {},
   "outputs": [
    {
     "data": {
      "text/plain": [
       "'h'"
      ]
     },
     "execution_count": 9,
     "metadata": {},
     "output_type": "execute_result"
    }
   ],
   "source": [
    "s1[-1]"
   ]
  },
  {
   "cell_type": "code",
   "execution_count": 10,
   "id": "2b67437a",
   "metadata": {},
   "outputs": [
    {
     "data": {
      "text/plain": [
       "'s'"
      ]
     },
     "execution_count": 10,
     "metadata": {},
     "output_type": "execute_result"
    }
   ],
   "source": [
    "s1[-2]"
   ]
  },
  {
   "cell_type": "code",
   "execution_count": 11,
   "id": "6dd4d3e5",
   "metadata": {},
   "outputs": [
    {
     "data": {
      "text/plain": [
       "'n'"
      ]
     },
     "execution_count": 11,
     "metadata": {},
     "output_type": "execute_result"
    }
   ],
   "source": [
    "s1[0:1:1]"
   ]
  },
  {
   "cell_type": "code",
   "execution_count": 16,
   "id": "ef18421c",
   "metadata": {},
   "outputs": [],
   "source": [
    "s2=\"this is my first programming class's'\""
   ]
  },
  {
   "cell_type": "code",
   "execution_count": 17,
   "id": "3c07b649",
   "metadata": {},
   "outputs": [
    {
     "data": {
      "text/plain": [
       "\"this is my first programming class's'\""
      ]
     },
     "execution_count": 17,
     "metadata": {},
     "output_type": "execute_result"
    }
   ],
   "source": [
    "s2"
   ]
  },
  {
   "cell_type": "code",
   "execution_count": 18,
   "id": "7be813b1",
   "metadata": {},
   "outputs": [
    {
     "data": {
      "text/plain": [
       "'m'"
      ]
     },
     "execution_count": 18,
     "metadata": {},
     "output_type": "execute_result"
    }
   ],
   "source": [
    "s2[8]"
   ]
  },
  {
   "cell_type": "code",
   "execution_count": 19,
   "id": "4a44d5ff",
   "metadata": {},
   "outputs": [
    {
     "data": {
      "text/plain": [
       "\"this is my first programming class's'\""
      ]
     },
     "execution_count": 19,
     "metadata": {},
     "output_type": "execute_result"
    }
   ],
   "source": [
    "s2"
   ]
  },
  {
   "cell_type": "code",
   "execution_count": 20,
   "id": "340b80d7",
   "metadata": {},
   "outputs": [
    {
     "data": {
      "text/plain": [
       "'his '"
      ]
     },
     "execution_count": 20,
     "metadata": {},
     "output_type": "execute_result"
    }
   ],
   "source": [
    "s2[1:5]"
   ]
  },
  {
   "cell_type": "code",
   "execution_count": 21,
   "id": "466d54ae",
   "metadata": {},
   "outputs": [
    {
     "data": {
      "text/plain": [
       "'s my first programming c'"
      ]
     },
     "execution_count": 21,
     "metadata": {},
     "output_type": "execute_result"
    }
   ],
   "source": [
    "s2[6:30]"
   ]
  },
  {
   "cell_type": "code",
   "execution_count": 24,
   "id": "762a3d36",
   "metadata": {},
   "outputs": [
    {
     "data": {
      "text/plain": [
       "\"ti sm is rgamn ls''\""
      ]
     },
     "execution_count": 24,
     "metadata": {},
     "output_type": "execute_result"
    }
   ],
   "source": [
    "s2[0::2]"
   ]
  },
  {
   "cell_type": "code",
   "execution_count": 32,
   "id": "fdbd3ac6",
   "metadata": {},
   "outputs": [],
   "source": [
    "a = \"ABCDEFGHIJKLMNOPQRSTUVWXYZ\""
   ]
  },
  {
   "cell_type": "code",
   "execution_count": 33,
   "id": "1f5c9e9b",
   "metadata": {},
   "outputs": [
    {
     "data": {
      "text/plain": [
       "'ACEGIKMOQSUWY'"
      ]
     },
     "execution_count": 33,
     "metadata": {},
     "output_type": "execute_result"
    }
   ],
   "source": [
    "a[0::2]"
   ]
  },
  {
   "cell_type": "code",
   "execution_count": 34,
   "id": "db640f57",
   "metadata": {},
   "outputs": [
    {
     "data": {
      "text/plain": [
       "26"
      ]
     },
     "execution_count": 34,
     "metadata": {},
     "output_type": "execute_result"
    }
   ],
   "source": [
    "len(a)"
   ]
  },
  {
   "cell_type": "code",
   "execution_count": 35,
   "id": "60b0adc3",
   "metadata": {},
   "outputs": [
    {
     "data": {
      "text/plain": [
       "''"
      ]
     },
     "execution_count": 35,
     "metadata": {},
     "output_type": "execute_result"
    }
   ],
   "source": [
    "a[0:8:-1]"
   ]
  },
  {
   "cell_type": "code",
   "execution_count": 36,
   "id": "69bd252f",
   "metadata": {},
   "outputs": [
    {
     "data": {
      "text/plain": [
       "'ZYXWVUTSRQPONMLKJIHGFEDCBA'"
      ]
     },
     "execution_count": 36,
     "metadata": {},
     "output_type": "execute_result"
    }
   ],
   "source": [
    "a[::-1]"
   ]
  },
  {
   "cell_type": "code",
   "execution_count": 37,
   "id": "2c350406",
   "metadata": {},
   "outputs": [
    {
     "data": {
      "text/plain": [
       "'IHGFEDCB'"
      ]
     },
     "execution_count": 37,
     "metadata": {},
     "output_type": "execute_result"
    }
   ],
   "source": [
    "a[8:0:-1]"
   ]
  },
  {
   "cell_type": "code",
   "execution_count": 38,
   "id": "47cdf536",
   "metadata": {},
   "outputs": [
    {
     "data": {
      "text/plain": [
       "'ABCDEFGHIJKLMNOPQRSTUVWXYZ'"
      ]
     },
     "execution_count": 38,
     "metadata": {},
     "output_type": "execute_result"
    }
   ],
   "source": [
    "a"
   ]
  },
  {
   "cell_type": "code",
   "execution_count": 40,
   "id": "4f374c23",
   "metadata": {},
   "outputs": [
    {
     "data": {
      "text/plain": [
       "'IGEC'"
      ]
     },
     "execution_count": 40,
     "metadata": {},
     "output_type": "execute_result"
    }
   ],
   "source": [
    "a[8:0:-2]"
   ]
  },
  {
   "cell_type": "code",
   "execution_count": 41,
   "id": "db29640d",
   "metadata": {},
   "outputs": [
    {
     "data": {
      "text/plain": [
       "'ABCDEFGHIJKLMNOPQRSTUVW'"
      ]
     },
     "execution_count": 41,
     "metadata": {},
     "output_type": "execute_result"
    }
   ],
   "source": [
    "a[:-3]"
   ]
  },
  {
   "cell_type": "code",
   "execution_count": 42,
   "id": "da319e0f",
   "metadata": {},
   "outputs": [
    {
     "data": {
      "text/plain": [
       "'YZ'"
      ]
     },
     "execution_count": 42,
     "metadata": {},
     "output_type": "execute_result"
    }
   ],
   "source": [
    "a[-2:]"
   ]
  },
  {
   "cell_type": "code",
   "execution_count": 43,
   "id": "a8e34488",
   "metadata": {},
   "outputs": [
    {
     "data": {
      "text/plain": [
       "'Z'"
      ]
     },
     "execution_count": 43,
     "metadata": {},
     "output_type": "execute_result"
    }
   ],
   "source": [
    "a[-1]"
   ]
  },
  {
   "cell_type": "code",
   "execution_count": 44,
   "id": "3efd3b76",
   "metadata": {},
   "outputs": [
    {
     "data": {
      "text/plain": [
       "'ZYXWVUTSRQPONMLKJIHGFEDCBA'"
      ]
     },
     "execution_count": 44,
     "metadata": {},
     "output_type": "execute_result"
    }
   ],
   "source": [
    "a[::-1]"
   ]
  },
  {
   "cell_type": "code",
   "execution_count": 45,
   "id": "40af294d",
   "metadata": {},
   "outputs": [],
   "source": [
    "b=a[::-1]"
   ]
  },
  {
   "cell_type": "code",
   "execution_count": 46,
   "id": "f77ca6a9",
   "metadata": {},
   "outputs": [
    {
     "data": {
      "text/plain": [
       "'ZYXWVUTSRQPONMLKJIHGFEDCBA'"
      ]
     },
     "execution_count": 46,
     "metadata": {},
     "output_type": "execute_result"
    }
   ],
   "source": [
    "b"
   ]
  },
  {
   "cell_type": "code",
   "execution_count": 47,
   "id": "c7234f11",
   "metadata": {},
   "outputs": [
    {
     "data": {
      "text/plain": [
       "''"
      ]
     },
     "execution_count": 47,
     "metadata": {},
     "output_type": "execute_result"
    }
   ],
   "source": [
    "a[-2:-7:1]"
   ]
  },
  {
   "cell_type": "code",
   "execution_count": 48,
   "id": "e44b980e",
   "metadata": {},
   "outputs": [
    {
     "data": {
      "text/plain": [
       "'TUVWX'"
      ]
     },
     "execution_count": 48,
     "metadata": {},
     "output_type": "execute_result"
    }
   ],
   "source": [
    "a[-7:-2:1]"
   ]
  },
  {
   "cell_type": "code",
   "execution_count": 49,
   "id": "b4f61c41",
   "metadata": {},
   "outputs": [
    {
     "data": {
      "text/plain": [
       "''"
      ]
     },
     "execution_count": 49,
     "metadata": {},
     "output_type": "execute_result"
    }
   ],
   "source": [
    "a[5:0]"
   ]
  },
  {
   "cell_type": "code",
   "execution_count": 50,
   "id": "346ca256",
   "metadata": {},
   "outputs": [
    {
     "data": {
      "text/plain": [
       "'ZXVTRPNLJH'"
      ]
     },
     "execution_count": 50,
     "metadata": {},
     "output_type": "execute_result"
    }
   ],
   "source": [
    "a[-1:-20:-2]"
   ]
  },
  {
   "cell_type": "code",
   "execution_count": 51,
   "id": "d533e19f",
   "metadata": {},
   "outputs": [
    {
     "data": {
      "text/plain": [
       "''"
      ]
     },
     "execution_count": 51,
     "metadata": {},
     "output_type": "execute_result"
    }
   ],
   "source": [
    "a[-7:0:1]"
   ]
  },
  {
   "cell_type": "code",
   "execution_count": 52,
   "id": "7ed2b216",
   "metadata": {},
   "outputs": [
    {
     "data": {
      "text/plain": [
       "'TSRQPONMLKJIHGFEDCB'"
      ]
     },
     "execution_count": 52,
     "metadata": {},
     "output_type": "execute_result"
    }
   ],
   "source": [
    "a[-7:0:-1]"
   ]
  },
  {
   "cell_type": "code",
   "execution_count": 53,
   "id": "4d03929f",
   "metadata": {},
   "outputs": [
    {
     "data": {
      "text/plain": [
       "'ineuron'"
      ]
     },
     "execution_count": 53,
     "metadata": {},
     "output_type": "execute_result"
    }
   ],
   "source": [
    "s"
   ]
  },
  {
   "cell_type": "code",
   "execution_count": 54,
   "id": "3b838887",
   "metadata": {},
   "outputs": [
    {
     "ename": "TypeError",
     "evalue": "can only concatenate str (not \"int\") to str",
     "output_type": "error",
     "traceback": [
      "\u001b[1;31m---------------------------------------------------------------------------\u001b[0m",
      "\u001b[1;31mTypeError\u001b[0m                                 Traceback (most recent call last)",
      "Input \u001b[1;32mIn [54]\u001b[0m, in \u001b[0;36m<cell line: 1>\u001b[1;34m()\u001b[0m\n\u001b[1;32m----> 1\u001b[0m \u001b[43ms\u001b[49m\u001b[38;5;241;43m+\u001b[39;49m\u001b[38;5;241;43m1\u001b[39;49m\n",
      "\u001b[1;31mTypeError\u001b[0m: can only concatenate str (not \"int\") to str"
     ]
    }
   ],
   "source": [
    "s+1"
   ]
  },
  {
   "cell_type": "code",
   "execution_count": 55,
   "id": "579e12d4",
   "metadata": {},
   "outputs": [
    {
     "data": {
      "text/plain": [
       "'ineuron1'"
      ]
     },
     "execution_count": 55,
     "metadata": {},
     "output_type": "execute_result"
    }
   ],
   "source": [
    "s+\"1\""
   ]
  },
  {
   "cell_type": "code",
   "execution_count": 56,
   "id": "e8c34e63",
   "metadata": {},
   "outputs": [
    {
     "ename": "TypeError",
     "evalue": "can only concatenate str (not \"int\") to str",
     "output_type": "error",
     "traceback": [
      "\u001b[1;31m---------------------------------------------------------------------------\u001b[0m",
      "\u001b[1;31mTypeError\u001b[0m                                 Traceback (most recent call last)",
      "Input \u001b[1;32mIn [56]\u001b[0m, in \u001b[0;36m<cell line: 1>\u001b[1;34m()\u001b[0m\n\u001b[1;32m----> 1\u001b[0m \u001b[43ma\u001b[49m\u001b[38;5;241;43m+\u001b[39;49m\u001b[38;5;241;43m1\u001b[39;49m\n",
      "\u001b[1;31mTypeError\u001b[0m: can only concatenate str (not \"int\") to str"
     ]
    }
   ],
   "source": [
    "a+1"
   ]
  },
  {
   "cell_type": "code",
   "execution_count": 57,
   "id": "a7ede63b",
   "metadata": {},
   "outputs": [
    {
     "data": {
      "text/plain": [
       "'ABCDEFGHIJKLMNOPQRSTUVWXYZ100'"
      ]
     },
     "execution_count": 57,
     "metadata": {},
     "output_type": "execute_result"
    }
   ],
   "source": [
    "a+str(100)"
   ]
  },
  {
   "cell_type": "code",
   "execution_count": 58,
   "id": "2c966461",
   "metadata": {},
   "outputs": [
    {
     "data": {
      "text/plain": [
       "'ABCDEFGHIJKLMNOPQRSTUVWXYZ'"
      ]
     },
     "execution_count": 58,
     "metadata": {},
     "output_type": "execute_result"
    }
   ],
   "source": [
    "a"
   ]
  },
  {
   "cell_type": "code",
   "execution_count": 59,
   "id": "0f377089",
   "metadata": {},
   "outputs": [
    {
     "data": {
      "text/plain": [
       "26"
      ]
     },
     "execution_count": 59,
     "metadata": {},
     "output_type": "execute_result"
    }
   ],
   "source": [
    "len(a)"
   ]
  },
  {
   "cell_type": "code",
   "execution_count": 63,
   "id": "c33dc2c2",
   "metadata": {},
   "outputs": [
    {
     "data": {
      "text/plain": [
       "'BCDEFGHIJKLMN'"
      ]
     },
     "execution_count": 63,
     "metadata": {},
     "output_type": "execute_result"
    }
   ],
   "source": [
    "a[1:len(a)-12]"
   ]
  },
  {
   "cell_type": "code",
   "execution_count": 64,
   "id": "ebb85002",
   "metadata": {},
   "outputs": [
    {
     "data": {
      "text/plain": [
       "'ABCDEFGHIJKLMNOPQRSTUVWXYZABCDEFGHIJKLMNOPQRSTUVWXYZ'"
      ]
     },
     "execution_count": 64,
     "metadata": {},
     "output_type": "execute_result"
    }
   ],
   "source": [
    "a*2"
   ]
  },
  {
   "cell_type": "code",
   "execution_count": 71,
   "id": "31588a72",
   "metadata": {},
   "outputs": [
    {
     "data": {
      "text/plain": [
       "1"
      ]
     },
     "execution_count": 71,
     "metadata": {},
     "output_type": "execute_result"
    }
   ],
   "source": [
    "a.count('A')"
   ]
  },
  {
   "cell_type": "code",
   "execution_count": 70,
   "id": "507f0bc9",
   "metadata": {},
   "outputs": [
    {
     "data": {
      "text/plain": [
       "2"
      ]
     },
     "execution_count": 70,
     "metadata": {},
     "output_type": "execute_result"
    }
   ],
   "source": [
    "s.count('n')"
   ]
  },
  {
   "cell_type": "code",
   "execution_count": 73,
   "id": "bc876ad8",
   "metadata": {},
   "outputs": [
    {
     "data": {
      "text/plain": [
       "list"
      ]
     },
     "execution_count": 73,
     "metadata": {},
     "output_type": "execute_result"
    }
   ],
   "source": [
    "type(s.split('n'))"
   ]
  },
  {
   "cell_type": "code",
   "execution_count": 74,
   "id": "c567182f",
   "metadata": {},
   "outputs": [],
   "source": [
    "n= 'nagesh'"
   ]
  },
  {
   "cell_type": "code",
   "execution_count": 76,
   "id": "02acd1d1",
   "metadata": {},
   "outputs": [
    {
     "data": {
      "text/plain": [
       "['n', 'gesh']"
      ]
     },
     "execution_count": 76,
     "metadata": {},
     "output_type": "execute_result"
    }
   ],
   "source": [
    "n.split(\"a\")"
   ]
  },
  {
   "cell_type": "code",
   "execution_count": 77,
   "id": "5ab78435",
   "metadata": {},
   "outputs": [],
   "source": [
    "w = \"\"\"Teamwork is the collaborative effort of a group to achieve a common goal or to complete a task in the most effective and efficient way. This concept is seen within the greater framework of a team, which is a group of interdependent individuals who work together towards a common goal.\"\"\""
   ]
  },
  {
   "cell_type": "code",
   "execution_count": 78,
   "id": "d83dfedc",
   "metadata": {},
   "outputs": [
    {
     "data": {
      "text/plain": [
       "['Teamwork',\n",
       " 'is',\n",
       " 'the',\n",
       " 'collaborative',\n",
       " 'effort',\n",
       " 'of',\n",
       " 'a',\n",
       " 'group',\n",
       " 'to',\n",
       " 'achieve',\n",
       " 'a',\n",
       " 'common',\n",
       " 'goal',\n",
       " 'or',\n",
       " 'to',\n",
       " 'complete',\n",
       " 'a',\n",
       " 'task',\n",
       " 'in',\n",
       " 'the',\n",
       " 'most',\n",
       " 'effective',\n",
       " 'and',\n",
       " 'efficient',\n",
       " 'way.',\n",
       " 'This',\n",
       " 'concept',\n",
       " 'is',\n",
       " 'seen',\n",
       " 'within',\n",
       " 'the',\n",
       " 'greater',\n",
       " 'framework',\n",
       " 'of',\n",
       " 'a',\n",
       " 'team,',\n",
       " 'which',\n",
       " 'is',\n",
       " 'a',\n",
       " 'group',\n",
       " 'of',\n",
       " 'interdependent',\n",
       " 'individuals',\n",
       " 'who',\n",
       " 'work',\n",
       " 'together',\n",
       " 'towards',\n",
       " 'a',\n",
       " 'common',\n",
       " 'goal.']"
      ]
     },
     "execution_count": 78,
     "metadata": {},
     "output_type": "execute_result"
    }
   ],
   "source": [
    "w.split(' ')"
   ]
  },
  {
   "cell_type": "code",
   "execution_count": 79,
   "id": "11fcb4b1",
   "metadata": {},
   "outputs": [
    {
     "data": {
      "text/plain": [
       "50"
      ]
     },
     "execution_count": 79,
     "metadata": {},
     "output_type": "execute_result"
    }
   ],
   "source": [
    "len(w.split(' '))"
   ]
  },
  {
   "cell_type": "code",
   "execution_count": 80,
   "id": "b4b33f83",
   "metadata": {},
   "outputs": [
    {
     "data": {
      "text/plain": [
       "4"
      ]
     },
     "execution_count": 80,
     "metadata": {},
     "output_type": "execute_result"
    }
   ],
   "source": [
    "w.count('is')"
   ]
  },
  {
   "cell_type": "code",
   "execution_count": 81,
   "id": "7d893a51",
   "metadata": {},
   "outputs": [
    {
     "data": {
      "text/plain": [
       "4"
      ]
     },
     "execution_count": 81,
     "metadata": {},
     "output_type": "execute_result"
    }
   ],
   "source": [
    "w.count(\"to\")"
   ]
  },
  {
   "cell_type": "code",
   "execution_count": 82,
   "id": "694d6786",
   "metadata": {},
   "outputs": [
    {
     "data": {
      "text/plain": [
       "False"
      ]
     },
     "execution_count": 82,
     "metadata": {},
     "output_type": "execute_result"
    }
   ],
   "source": [
    "w.isupper()"
   ]
  },
  {
   "cell_type": "code",
   "execution_count": 83,
   "id": "e5b78335",
   "metadata": {},
   "outputs": [
    {
     "data": {
      "text/plain": [
       "False"
      ]
     },
     "execution_count": 83,
     "metadata": {},
     "output_type": "execute_result"
    }
   ],
   "source": [
    "w.islower()"
   ]
  },
  {
   "cell_type": "code",
   "execution_count": 85,
   "id": "dca725d1",
   "metadata": {},
   "outputs": [
    {
     "data": {
      "text/plain": [
       "'Teamwork is the collaborative effort of a group to achieve a common goal or to complete a task in the most effective and efficient way. this concept is seen within the greater framework of a team, which is a group of interdependent individuals who work together towards a common goal.'"
      ]
     },
     "execution_count": 85,
     "metadata": {},
     "output_type": "execute_result"
    }
   ],
   "source": [
    "w.capitalize()"
   ]
  },
  {
   "cell_type": "code",
   "execution_count": 86,
   "id": "75357fa0",
   "metadata": {},
   "outputs": [
    {
     "data": {
      "text/plain": [
       "'teamwork is the collaborative effort of a group to achieve a common goal or to complete a task in the most effective and efficient way. this concept is seen within the greater framework of a team, which is a group of interdependent individuals who work together towards a common goal.'"
      ]
     },
     "execution_count": 86,
     "metadata": {},
     "output_type": "execute_result"
    }
   ],
   "source": [
    "w.casefold()"
   ]
  },
  {
   "cell_type": "code",
   "execution_count": 89,
   "id": "a6f36b8b",
   "metadata": {},
   "outputs": [
    {
     "data": {
      "text/plain": [
       "'ABCDEFGHIJKLMNOPQRSTUVWXYZ'"
      ]
     },
     "execution_count": 89,
     "metadata": {},
     "output_type": "execute_result"
    }
   ],
   "source": [
    "a.center(2)"
   ]
  },
  {
   "cell_type": "code",
   "execution_count": 91,
   "id": "e1ed7ad2",
   "metadata": {},
   "outputs": [],
   "source": [
    "A=a.lower()"
   ]
  },
  {
   "cell_type": "code",
   "execution_count": 92,
   "id": "fa503599",
   "metadata": {},
   "outputs": [
    {
     "data": {
      "text/plain": [
       "'abcdefghijklmnopqrstuvwxyz'"
      ]
     },
     "execution_count": 92,
     "metadata": {},
     "output_type": "execute_result"
    }
   ],
   "source": [
    "A"
   ]
  },
  {
   "cell_type": "code",
   "execution_count": 93,
   "id": "ae137f92",
   "metadata": {},
   "outputs": [],
   "source": [
    "A = A.upper()"
   ]
  },
  {
   "cell_type": "code",
   "execution_count": 94,
   "id": "1443e762",
   "metadata": {},
   "outputs": [
    {
     "data": {
      "text/plain": [
       "'ABCDEFGHIJKLMNOPQRSTUVWXYZ'"
      ]
     },
     "execution_count": 94,
     "metadata": {},
     "output_type": "execute_result"
    }
   ],
   "source": [
    "A"
   ]
  },
  {
   "cell_type": "code",
   "execution_count": 101,
   "id": "8b010abb",
   "metadata": {},
   "outputs": [],
   "source": [
    "a1=\"ab\""
   ]
  },
  {
   "cell_type": "code",
   "execution_count": 103,
   "id": "2cd41b16",
   "metadata": {},
   "outputs": [
    {
     "data": {
      "text/plain": [
       "'ab'"
      ]
     },
     "execution_count": 103,
     "metadata": {},
     "output_type": "execute_result"
    }
   ],
   "source": [
    "a1.center(2,\"@\")"
   ]
  },
  {
   "cell_type": "code",
   "execution_count": 104,
   "id": "586ea8f6",
   "metadata": {},
   "outputs": [
    {
     "data": {
      "text/plain": [
       "'TEAMWORK IS THE COLLABORATIVE EFFORT OF A GROUP TO ACHIEVE A COMMON GOAL OR TO COMPLETE A TASK IN THE MOST EFFECTIVE AND EFFICIENT WAY. THIS CONCEPT IS SEEN WITHIN THE GREATER FRAMEWORK OF A TEAM, WHICH IS A GROUP OF INTERDEPENDENT INDIVIDUALS WHO WORK TOGETHER TOWARDS A COMMON GOAL.'"
      ]
     },
     "execution_count": 104,
     "metadata": {},
     "output_type": "execute_result"
    }
   ],
   "source": [
    "w.upper()"
   ]
  },
  {
   "cell_type": "code",
   "execution_count": 105,
   "id": "96499636",
   "metadata": {},
   "outputs": [
    {
     "data": {
      "text/plain": [
       "'teamwork is the collaborative effort of a group to achieve a common goal or to complete a task in the most effective and efficient way. this concept is seen within the greater framework of a team, which is a group of interdependent individuals who work together towards a common goal.'"
      ]
     },
     "execution_count": 105,
     "metadata": {},
     "output_type": "execute_result"
    }
   ],
   "source": [
    "w.lower()"
   ]
  },
  {
   "cell_type": "code",
   "execution_count": 106,
   "id": "4f2a6ba6",
   "metadata": {},
   "outputs": [
    {
     "data": {
      "text/plain": [
       "'Teamwork is the collaborative effort of a group to achieve a common goal or to complete a task in the most effective and efficient way. This concept is seen within the greater framework of a team, which is a group of interdependent individuals who work together towards a common goal.'"
      ]
     },
     "execution_count": 106,
     "metadata": {},
     "output_type": "execute_result"
    }
   ],
   "source": [
    "w"
   ]
  },
  {
   "cell_type": "code",
   "execution_count": 107,
   "id": "054b8536",
   "metadata": {},
   "outputs": [],
   "source": [
    "w1=w.upper()"
   ]
  },
  {
   "cell_type": "code",
   "execution_count": 108,
   "id": "8fa9ff1d",
   "metadata": {},
   "outputs": [
    {
     "data": {
      "text/plain": [
       "'TEAMWORK IS THE COLLABORATIVE EFFORT OF A GROUP TO ACHIEVE A COMMON GOAL OR TO COMPLETE A TASK IN THE MOST EFFECTIVE AND EFFICIENT WAY. THIS CONCEPT IS SEEN WITHIN THE GREATER FRAMEWORK OF A TEAM, WHICH IS A GROUP OF INTERDEPENDENT INDIVIDUALS WHO WORK TOGETHER TOWARDS A COMMON GOAL.'"
      ]
     },
     "execution_count": 108,
     "metadata": {},
     "output_type": "execute_result"
    }
   ],
   "source": [
    "w1"
   ]
  },
  {
   "cell_type": "code",
   "execution_count": 109,
   "id": "f87cd1be",
   "metadata": {},
   "outputs": [
    {
     "data": {
      "text/plain": [
       "'Teamwork Is The Collaborative Effort Of A Group To Achieve A Common Goal Or To Complete A Task In The Most Effective And Efficient Way. This Concept Is Seen Within The Greater Framework Of A Team, Which Is A Group Of Interdependent Individuals Who Work Together Towards A Common Goal.'"
      ]
     },
     "execution_count": 109,
     "metadata": {},
     "output_type": "execute_result"
    }
   ],
   "source": [
    "w.title() # this will give the every word capital"
   ]
  },
  {
   "cell_type": "code",
   "execution_count": 110,
   "id": "caab972c",
   "metadata": {},
   "outputs": [
    {
     "data": {
      "text/plain": [
       "'Teamwork is the collaborative effort of a group to achieve a common goal or to complete a task in the most effective and efficient way. this concept is seen within the greater framework of a team, which is a group of interdependent individuals who work together towards a common goal.'"
      ]
     },
     "execution_count": 110,
     "metadata": {},
     "output_type": "execute_result"
    }
   ],
   "source": [
    "w.capitalize()"
   ]
  },
  {
   "cell_type": "code",
   "execution_count": 111,
   "id": "aec9b1a1",
   "metadata": {},
   "outputs": [],
   "source": [
    "w2 = \"nagESH\""
   ]
  },
  {
   "cell_type": "code",
   "execution_count": 113,
   "id": "0899f7ef",
   "metadata": {},
   "outputs": [
    {
     "data": {
      "text/plain": [
       "'NAGesh'"
      ]
     },
     "execution_count": 113,
     "metadata": {},
     "output_type": "execute_result"
    }
   ],
   "source": [
    "w2.swapcase() #upper to lower and lower to upper case"
   ]
  },
  {
   "cell_type": "code",
   "execution_count": 117,
   "id": "65a7a66b",
   "metadata": {},
   "outputs": [
    {
     "data": {
      "text/plain": [
       "'HSEgan'"
      ]
     },
     "execution_count": 117,
     "metadata": {},
     "output_type": "execute_result"
    }
   ],
   "source": [
    "''.join(reversed(w2))"
   ]
  },
  {
   "cell_type": "code",
   "execution_count": 118,
   "id": "7e34c99b",
   "metadata": {},
   "outputs": [],
   "source": [
    "s =\"  Nagesh     \""
   ]
  },
  {
   "cell_type": "code",
   "execution_count": 120,
   "id": "efddf951",
   "metadata": {},
   "outputs": [
    {
     "data": {
      "text/plain": [
       "'Nagesh'"
      ]
     },
     "execution_count": 120,
     "metadata": {},
     "output_type": "execute_result"
    }
   ],
   "source": [
    "s.strip()# this strip off space "
   ]
  },
  {
   "cell_type": "code",
   "execution_count": 121,
   "id": "239cfaf6",
   "metadata": {},
   "outputs": [
    {
     "data": {
      "text/plain": [
       "'Nagesh     '"
      ]
     },
     "execution_count": 121,
     "metadata": {},
     "output_type": "execute_result"
    }
   ],
   "source": [
    "s.lstrip() # it remove left side space"
   ]
  },
  {
   "cell_type": "code",
   "execution_count": 122,
   "id": "c462d0cd",
   "metadata": {},
   "outputs": [
    {
     "data": {
      "text/plain": [
       "'  Nagesh'"
      ]
     },
     "execution_count": 122,
     "metadata": {},
     "output_type": "execute_result"
    }
   ],
   "source": [
    "s.rstrip()# it remove right side space"
   ]
  },
  {
   "cell_type": "code",
   "execution_count": 123,
   "id": "e0079539",
   "metadata": {},
   "outputs": [
    {
     "data": {
      "text/plain": [
       "'n@a@g@e@s@h'"
      ]
     },
     "execution_count": 123,
     "metadata": {},
     "output_type": "execute_result"
    }
   ],
   "source": [
    "\"@\".join(\"nagesh\")"
   ]
  },
  {
   "cell_type": "code",
   "execution_count": 124,
   "id": "490914d3",
   "metadata": {},
   "outputs": [],
   "source": [
    "s = \"nagesh\""
   ]
  },
  {
   "cell_type": "code",
   "execution_count": 125,
   "id": "27d76eb5",
   "metadata": {},
   "outputs": [
    {
     "data": {
      "text/plain": [
       "'#######nagesh#######'"
      ]
     },
     "execution_count": 125,
     "metadata": {},
     "output_type": "execute_result"
    }
   ],
   "source": [
    "s.center(20,'#')"
   ]
  },
  {
   "cell_type": "code",
   "execution_count": 127,
   "id": "8387f2dc",
   "metadata": {},
   "outputs": [
    {
     "data": {
      "text/plain": [
       "True"
      ]
     },
     "execution_count": 127,
     "metadata": {},
     "output_type": "execute_result"
    }
   ],
   "source": [
    "s.islower()"
   ]
  },
  {
   "cell_type": "code",
   "execution_count": 128,
   "id": "579c67eb",
   "metadata": {},
   "outputs": [
    {
     "ename": "TypeError",
     "evalue": "str.islower() takes no arguments (1 given)",
     "output_type": "error",
     "traceback": [
      "\u001b[1;31m---------------------------------------------------------------------------\u001b[0m",
      "\u001b[1;31mTypeError\u001b[0m                                 Traceback (most recent call last)",
      "Input \u001b[1;32mIn [128]\u001b[0m, in \u001b[0;36m<cell line: 1>\u001b[1;34m()\u001b[0m\n\u001b[1;32m----> 1\u001b[0m \u001b[43ms\u001b[49m\u001b[38;5;241;43m.\u001b[39;49m\u001b[43mislower\u001b[49m\u001b[43m(\u001b[49m\u001b[43ms\u001b[49m\u001b[38;5;241;43m.\u001b[39;49m\u001b[43mupper\u001b[49m\u001b[43m(\u001b[49m\u001b[43m)\u001b[49m\u001b[43m)\u001b[49m\n",
      "\u001b[1;31mTypeError\u001b[0m: str.islower() takes no arguments (1 given)"
     ]
    }
   ],
   "source": [
    "s.islower(s.upper())"
   ]
  },
  {
   "cell_type": "code",
   "execution_count": 129,
   "id": "2794786b",
   "metadata": {},
   "outputs": [],
   "source": [
    "s4 = \"  \""
   ]
  },
  {
   "cell_type": "code",
   "execution_count": 131,
   "id": "1ee853be",
   "metadata": {},
   "outputs": [
    {
     "data": {
      "text/plain": [
       "True"
      ]
     },
     "execution_count": 131,
     "metadata": {},
     "output_type": "execute_result"
    }
   ],
   "source": [
    "s4.isspace()"
   ]
  },
  {
   "cell_type": "code",
   "execution_count": 132,
   "id": "d882d79c",
   "metadata": {},
   "outputs": [],
   "source": [
    "s5= 'absg123'"
   ]
  },
  {
   "cell_type": "code",
   "execution_count": 133,
   "id": "2c4fcbe4",
   "metadata": {},
   "outputs": [
    {
     "data": {
      "text/plain": [
       "False"
      ]
     },
     "execution_count": 133,
     "metadata": {},
     "output_type": "execute_result"
    }
   ],
   "source": [
    "s5.isdigit()"
   ]
  },
  {
   "cell_type": "code",
   "execution_count": 134,
   "id": "8531f2c8",
   "metadata": {},
   "outputs": [
    {
     "data": {
      "text/plain": [
       "False"
      ]
     },
     "execution_count": 134,
     "metadata": {},
     "output_type": "execute_result"
    }
   ],
   "source": [
    "s5.isalpha()"
   ]
  },
  {
   "cell_type": "code",
   "execution_count": 135,
   "id": "fde7f66c",
   "metadata": {},
   "outputs": [
    {
     "data": {
      "text/plain": [
       "True"
      ]
     },
     "execution_count": 135,
     "metadata": {},
     "output_type": "execute_result"
    }
   ],
   "source": [
    "s5.isalnum()"
   ]
  },
  {
   "cell_type": "code",
   "execution_count": 136,
   "id": "68038b04",
   "metadata": {},
   "outputs": [
    {
     "data": {
      "text/plain": [
       "True"
      ]
     },
     "execution_count": 136,
     "metadata": {},
     "output_type": "execute_result"
    }
   ],
   "source": [
    "s.startswith('n')"
   ]
  },
  {
   "cell_type": "code",
   "execution_count": 137,
   "id": "5390e2d7",
   "metadata": {},
   "outputs": [
    {
     "data": {
      "text/plain": [
       "'nagesh'"
      ]
     },
     "execution_count": 137,
     "metadata": {},
     "output_type": "execute_result"
    }
   ],
   "source": [
    "s"
   ]
  },
  {
   "cell_type": "code",
   "execution_count": 138,
   "id": "625894ec",
   "metadata": {},
   "outputs": [
    {
     "data": {
      "text/plain": [
       "False"
      ]
     },
     "execution_count": 138,
     "metadata": {},
     "output_type": "execute_result"
    }
   ],
   "source": [
    "s.startswith(\"N\")"
   ]
  },
  {
   "cell_type": "code",
   "execution_count": 139,
   "id": "1b970c60",
   "metadata": {},
   "outputs": [
    {
     "data": {
      "text/plain": [
       "True"
      ]
     },
     "execution_count": 139,
     "metadata": {},
     "output_type": "execute_result"
    }
   ],
   "source": [
    "s.endswith('h')"
   ]
  },
  {
   "cell_type": "code",
   "execution_count": 140,
   "id": "b70c18aa",
   "metadata": {},
   "outputs": [
    {
     "data": {
      "text/plain": [
       "False"
      ]
     },
     "execution_count": 140,
     "metadata": {},
     "output_type": "execute_result"
    }
   ],
   "source": [
    "s.endswith(\"H\")"
   ]
  },
  {
   "cell_type": "code",
   "execution_count": 141,
   "id": "245fe95a",
   "metadata": {},
   "outputs": [
    {
     "data": {
      "text/plain": [
       "False"
      ]
     },
     "execution_count": 141,
     "metadata": {},
     "output_type": "execute_result"
    }
   ],
   "source": [
    "s.isnumeric()"
   ]
  },
  {
   "cell_type": "code",
   "execution_count": 142,
   "id": "35ee7363",
   "metadata": {},
   "outputs": [
    {
     "data": {
      "text/plain": [
       "True"
      ]
     },
     "execution_count": 142,
     "metadata": {},
     "output_type": "execute_result"
    }
   ],
   "source": [
    "s.isascii()"
   ]
  },
  {
   "cell_type": "code",
   "execution_count": 143,
   "id": "2266c879",
   "metadata": {},
   "outputs": [
    {
     "data": {
      "text/plain": [
       "'65'"
      ]
     },
     "execution_count": 143,
     "metadata": {},
     "output_type": "execute_result"
    }
   ],
   "source": [
    "str(65)"
   ]
  },
  {
   "cell_type": "code",
   "execution_count": 144,
   "id": "90a6a79e",
   "metadata": {},
   "outputs": [
    {
     "name": "stdout",
     "output_type": "stream",
     "text": [
      "65\n"
     ]
    }
   ],
   "source": [
    "print(str(65))"
   ]
  },
  {
   "cell_type": "code",
   "execution_count": 146,
   "id": "99ae97df",
   "metadata": {},
   "outputs": [
    {
     "data": {
      "text/plain": [
       "65"
      ]
     },
     "execution_count": 146,
     "metadata": {},
     "output_type": "execute_result"
    }
   ],
   "source": [
    "a=65\n",
    "str(a)\n",
    "a"
   ]
  },
  {
   "cell_type": "code",
   "execution_count": 152,
   "id": "62c146c1",
   "metadata": {},
   "outputs": [],
   "source": [
    "a2= '31654654'"
   ]
  },
  {
   "cell_type": "code",
   "execution_count": 154,
   "id": "97e2771b",
   "metadata": {},
   "outputs": [
    {
     "data": {
      "text/plain": [
       "True"
      ]
     },
     "execution_count": 154,
     "metadata": {},
     "output_type": "execute_result"
    }
   ],
   "source": [
    "a2.isdigit()"
   ]
  },
  {
   "cell_type": "code",
   "execution_count": 149,
   "id": "97e5f0e6",
   "metadata": {},
   "outputs": [],
   "source": [
    "a1 = \"3516 35165 56\""
   ]
  },
  {
   "cell_type": "code",
   "execution_count": 150,
   "id": "f46ff216",
   "metadata": {},
   "outputs": [
    {
     "data": {
      "text/plain": [
       "False"
      ]
     },
     "execution_count": 150,
     "metadata": {},
     "output_type": "execute_result"
    }
   ],
   "source": [
    "a1.isdigit()"
   ]
  },
  {
   "cell_type": "code",
   "execution_count": 151,
   "id": "beaa7f0c",
   "metadata": {},
   "outputs": [
    {
     "data": {
      "text/plain": [
       "False"
      ]
     },
     "execution_count": 151,
     "metadata": {},
     "output_type": "execute_result"
    }
   ],
   "source": [
    "a1.isnumeric()"
   ]
  },
  {
   "cell_type": "code",
   "execution_count": 155,
   "id": "9808ecfe",
   "metadata": {},
   "outputs": [
    {
     "data": {
      "text/plain": [
       "True"
      ]
     },
     "execution_count": 155,
     "metadata": {},
     "output_type": "execute_result"
    }
   ],
   "source": [
    "a2.isnumeric()"
   ]
  },
  {
   "cell_type": "code",
   "execution_count": 156,
   "id": "9d92dc62",
   "metadata": {},
   "outputs": [
    {
     "data": {
      "text/plain": [
       "'3a1a6a5a4a6a5a4'"
      ]
     },
     "execution_count": 156,
     "metadata": {},
     "output_type": "execute_result"
    }
   ],
   "source": [
    "\"a\".join(a2)"
   ]
  },
  {
   "cell_type": "code",
   "execution_count": 157,
   "id": "66ece3e2",
   "metadata": {},
   "outputs": [
    {
     "data": {
      "text/plain": [
       "'hsegan'"
      ]
     },
     "execution_count": 157,
     "metadata": {},
     "output_type": "execute_result"
    }
   ],
   "source": [
    "\"\".join(reversed(\"nagesh\"))"
   ]
  },
  {
   "cell_type": "code",
   "execution_count": 158,
   "id": "5d9e17e7",
   "metadata": {},
   "outputs": [],
   "source": [
    "s = \"nagesh\\tmeshram\\t\""
   ]
  },
  {
   "cell_type": "code",
   "execution_count": 159,
   "id": "8434e2f5",
   "metadata": {},
   "outputs": [
    {
     "data": {
      "text/plain": [
       "'nagesh  meshram '"
      ]
     },
     "execution_count": 159,
     "metadata": {},
     "output_type": "execute_result"
    }
   ],
   "source": [
    "s.expandtabs()"
   ]
  },
  {
   "cell_type": "code",
   "execution_count": null,
   "id": "592bc46b",
   "metadata": {},
   "outputs": [],
   "source": []
  }
 ],
 "metadata": {
  "kernelspec": {
   "display_name": "Python 3 (ipykernel)",
   "language": "python",
   "name": "python3"
  },
  "language_info": {
   "codemirror_mode": {
    "name": "ipython",
    "version": 3
   },
   "file_extension": ".py",
   "mimetype": "text/x-python",
   "name": "python",
   "nbconvert_exporter": "python",
   "pygments_lexer": "ipython3",
   "version": "3.9.12"
  }
 },
 "nbformat": 4,
 "nbformat_minor": 5
}
